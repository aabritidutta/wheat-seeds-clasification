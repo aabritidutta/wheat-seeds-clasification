{
 "cells": [
  {
   "cell_type": "markdown",
   "metadata": {},
   "source": [
    "# Neural Network using Numpy"
   ]
  },
  {
   "cell_type": "markdown",
   "metadata": {},
   "source": [
    "A feed forward network on a classification problem using Stochastic Gradient Descent for optimisation."
   ]
  },
  {
   "cell_type": "markdown",
   "metadata": {},
   "source": [
    "## About Dataset\n",
    "This dataset contains instances of 3 different varieties of wheat: Kama, Rosa and Canadian based on diffrent parameters and characteristics of the the wheat seeds.\n",
    "Source : https://www.kaggle.com/rwzhang/seeds-dataset"
   ]
  },
  {
   "cell_type": "code",
   "execution_count": 5,
   "metadata": {},
   "outputs": [],
   "source": [
    "#Importing all required library\n",
    "import pandas as pd\n",
    "import numpy as np\n",
    "import random\n",
    "import matplotlib.pylab as plt\n",
    "from sklearn import preprocessing\n",
    "from sklearn.model_selection import train_test_split\n",
    "from sklearn.preprocessing import OneHotEncoder"
   ]
  },
  {
   "cell_type": "code",
   "execution_count": 6,
   "metadata": {},
   "outputs": [],
   "source": [
    "#Initialising random weights and parameters\n",
    "def initialize_parameters(layers_size):\n",
    "    #print(\"2. InitializeParameter\")\n",
    "    np.random.seed(73)\n",
    "\n",
    "    for l in range(1, len(layers_size)):\n",
    "        #print(\"no of layers\",len(layers_size))\n",
    "        parameters[\"W\" + str(l)] = np.random.randn(layers_size[l], layers_size[l - 1])\n",
    "        parameters[\"b\" + str(l)] = np.zeros((layers_size[l], 1))"
   ]
  },
  {
   "cell_type": "code",
   "execution_count": 7,
   "metadata": {},
   "outputs": [],
   "source": [
    "#defining Sigmoid Function\n",
    "def sigmoid(a):\n",
    "    return 1 / (1 + np.exp(-a))\n",
    "\n",
    "#Defining Sofmax Function\n",
    "def softmax(a):\n",
    "        expZ = np.exp(a - np.max(a))\n",
    "        return expZ / expZ.sum(axis=0, keepdims=True)\n",
    "\n",
    "#Defining a function to calculate the sigmoid derivative\n",
    "def sigmoid_derivative(a):\n",
    "        s = 1 / (1 + np.exp(-a))\n",
    "        return s * (1 - s)"
   ]
  },
  {
   "cell_type": "code",
   "execution_count": 8,
   "metadata": {},
   "outputs": [],
   "source": [
    "#Forward Propogation\n",
    "def forward(X):\n",
    "    store = {}\n",
    "\n",
    "    h = X.T\n",
    "    for l in range(L - 1):\n",
    "        a = parameters[\"W\" + str(l + 1)].dot(h) + parameters[\"b\" + str(l + 1)]  # Updating pre-activation layers\n",
    "        h = sigmoid(a)  ### Appying sigmoid activation function\n",
    "        \n",
    "        store[\"h\" + str(l + 1)] = h\n",
    "        store[\"W\" + str(l + 1)] = parameters[\"W\" + str(l + 1)]\n",
    "        store[\"a\" + str(l + 1)] = a\n",
    "        \n",
    "    a = parameters[\"W\" + str(L)].dot(h) + parameters[\"b\" + str(L)]\n",
    "    h = softmax(a) ## Softmax Function as output function\n",
    "\n",
    "    store[\"h\" + str(L)] = h\n",
    "    store[\"W\" + str(L)] = parameters[\"W\" + str(L)]\n",
    "    store[\"a\" + str(L)] = a\n",
    "    return h, store\n"
   ]
  },
  {
   "cell_type": "code",
   "execution_count": 9,
   "metadata": {},
   "outputs": [],
   "source": [
    "#Backward propagation Function\n",
    "def backward(X, Y, store):\n",
    "\n",
    "    derivatives = {}\n",
    "\n",
    "    store[\"h0\"] = X.T\n",
    "    \n",
    "    # Calculating the derivatives of loss wrt to parameters\n",
    "    h = store[\"h\" + str(L)]\n",
    "    da = h - Y.T\n",
    "    dW = da.dot(store[\"h\" + str(L - 1)].T)\n",
    "    db = np.sum(da,axis=1, keepdims=True)\n",
    "    dhPrev = store[\"W\" + str(L)].T.dot(da)\n",
    "\n",
    "    derivatives[\"dW\" + str(L)] = dW\n",
    "    derivatives[\"db\" + str(L)] = db\n",
    "    \n",
    "    # Calculating the derivatives in the hidden layers\n",
    "    for l in range(L-1 , 0, -1):\n",
    "        da = dhPrev * sigmoid_derivative(store[\"a\" + str(l)])\n",
    "        dW = da.dot(store[\"h\" + str(l-1)].T)\n",
    "        db = np.sum(da,axis=1,keepdims=True)\n",
    "        if l > 1:\n",
    "            dhPrev = store[\"W\" + str(l)].T.dot(da)\n",
    "        derivatives[\"dW\" + str(l)] = dW\n",
    "        derivatives[\"db\" + str(l)] = db\n",
    "    return derivatives"
   ]
  },
  {
   "cell_type": "code",
   "execution_count": 10,
   "metadata": {},
   "outputs": [],
   "source": [
    "# Function to calculate the accuracy of the model\n",
    "def predict(X, Y):\n",
    "    h, cache = forward(X)\n",
    "    y_hat = np.argmax(h, axis=0)\n",
    "    Y = np.argmax(Y, axis=1)\n",
    "    accuracy = (y_hat == Y).mean()\n",
    "    return accuracy * 100"
   ]
  },
  {
   "cell_type": "code",
   "execution_count": 11,
   "metadata": {},
   "outputs": [],
   "source": [
    "# Function to plot epochs vs error\n",
    "def plot_cost():\n",
    "    plt.figure()\n",
    "    plt.plot(np.arange(len(costs)), costs)\n",
    "    plt.xlabel(\"epochs\")\n",
    "    plt.ylabel(\"error\")\n",
    "    plt.show()"
   ]
  },
  {
   "cell_type": "code",
   "execution_count": 12,
   "metadata": {},
   "outputs": [],
   "source": [
    "# Function to pre-process the data by normalising the data, splitting the data into train and test and converting the target column into one-hot vector\n",
    "def pre_process_data():\n",
    "    #loading the dataset \n",
    "    dataset = pd.read_table('seeds_dataset.txt', delim_whitespace=True, names=('A', 'P', 'C', 'L', 'W', 'AC', 'LK','Out'), index_col=False)\n",
    "    \n",
    "    #normalising the dataset\n",
    "    normalized = preprocessing.MinMaxScaler(feature_range=(0,1))\n",
    "    normalised_dataset= normalized.fit_transform(dataset)\n",
    "\n",
    "    X_data=dataset[['A', 'P', 'C', 'L', 'W', 'AC', 'LK']]\n",
    "    Y_data=dataset[['Out']]\n",
    "    \n",
    "    # splitting the data into train and test set\n",
    "    X_train, X_test, Y_train, Y_test = train_test_split(X_data, Y_data, test_size=0.33)\n",
    "    normalized = preprocessing.MinMaxScaler(feature_range=(0,1))\n",
    "    scaled_training = normalized.fit_transform(X_train)\n",
    "    scaled_testing = normalized.transform(X_test)\n",
    "    \n",
    "    y_train=Y_train.to_numpy(copy=True)\n",
    "    y_test=Y_test.to_numpy(copy=True)\n",
    "    \n",
    "    # converting the target variable into one-hot vector\n",
    "    enc = OneHotEncoder(sparse=False, categories='auto')\n",
    "    Y_Scaled_train = enc.fit_transform(y_train.reshape(len(y_train), -1))\n",
    "\n",
    " \n",
    "    Y_scaled_test = enc.transform(y_test.reshape(len(y_test), -1))\n",
    " \n",
    "    return scaled_training, Y_Scaled_train, scaled_testing, Y_scaled_test\n"
   ]
  },
  {
   "cell_type": "code",
   "execution_count": 13,
   "metadata": {},
   "outputs": [],
   "source": [
    "# Function to train the model\n",
    "def learning(X_learn, Y_learn, noOfData, learning_rate, n_iterations):\n",
    "    random.shuffle(noOfData)\n",
    "    for loop in range(n_iterations):\n",
    "        costIter=[]\n",
    "        for eachInput in noOfData:   # Considering 1 input at a time\n",
    "            X=np.array(X_learn[eachInput])\n",
    "            X=X.reshape((1,X.shape[0]))\n",
    "            Y=Y_learn[eachInput]\n",
    "            Y=Y.reshape((1,Y.shape[0]))\n",
    "            \n",
    "            h, store = forward(X)  # Performing forward propagation \n",
    "            cost = -np.sum(Y * np.log(h.T)+ 1e-8)\n",
    "            costIter.append(cost)\n",
    "            derivatives = backward(X, Y, store)  # Performing backward propagation\n",
    "        \n",
    "            for l in range(1, L + 1):   # Updating the parameters after every input\n",
    "                parameters[\"W\" + str(l)] = parameters[\"W\" + str(l)] - learning_rate * derivatives[\"dW\" + str(l)]\n",
    "                parameters[\"b\" + str(l)] = parameters[\"b\" + str(l)] - learning_rate * derivatives[\"db\" + str(l)]\n",
    "        CostArr = np.array(costIter)\n",
    "        CostMean =np.sum(CostArr)\n",
    "\n",
    "        if loop % 10 == 0:\n",
    "            print(\"cost\",CostMean)\n",
    " \n",
    "        #if loop % 10 == 0:\n",
    "        costs.append(CostMean)"
   ]
  },
  {
   "cell_type": "code",
   "execution_count": 14,
   "metadata": {},
   "outputs": [],
   "source": [
    "train_x, train_y, test_x, test_y = pre_process_data()\n",
    "noOfTrainData=[item for item in range(0, train_x.shape[0])]"
   ]
  },
  {
   "cell_type": "code",
   "execution_count": 15,
   "metadata": {},
   "outputs": [],
   "source": [
    "# Dynamic change in size of network\n",
    "layers_dims = [8, 3]\n",
    "L = len(layers_dims)\n",
    "layers_dims.insert(0, train_x.shape[1])"
   ]
  },
  {
   "cell_type": "code",
   "execution_count": 16,
   "metadata": {},
   "outputs": [
    {
     "name": "stdout",
     "output_type": "stream",
     "text": [
      "cost 174.85287191112684\n",
      "cost 99.67376291290623\n",
      "cost 70.94953363592427\n",
      "cost 55.5365102722589\n",
      "cost 46.42362719005415\n",
      "cost 40.55654961910899\n",
      "cost 36.513004698423735\n",
      "cost 33.57339052073346\n",
      "cost 31.34367763496439\n",
      "cost 29.59335037421903\n",
      "cost 28.179968279846364\n",
      "cost 27.011406693146068\n",
      "cost 26.02574979683383\n",
      "cost 25.18000363275113\n",
      "cost 24.443466303582973\n",
      "cost 23.79367753069354\n",
      "cost 23.213857493096068\n",
      "cost 22.69123760507258\n",
      "cost 22.215943069680055\n",
      "cost 21.78022676479116\n",
      "Train Accuracy: 95.71428571428572\n"
     ]
    },
    {
     "data": {
      "image/png": "[encoded data removed]",
      "text/plain": [
       "<Figure size 432x288 with 1 Axes>"
      ]
     },
     "metadata": {
      "needs_background": "light"
     },
     "output_type": "display_data"
    }
   ],
   "source": [
    "parameters = {}\n",
    "costs = []\n",
    "initialize_parameters(layers_dims)\n",
    "learning(train_x, train_y, noOfTrainData, learning_rate=0.01, n_iterations=200)\n",
    "print(\"Train Accuracy:\", predict(train_x, train_y))\n",
    "plot_cost()"
   ]
  },
  {
   "cell_type": "code",
   "execution_count": 17,
   "metadata": {},
   "outputs": [
    {
     "name": "stdout",
     "output_type": "stream",
     "text": [
      "Test Accuracy: 92.85714285714286\n"
     ]
    }
   ],
   "source": [
    "print(\"Test Accuracy:\", predict(test_x, test_y))"
   ]
  }
 ],
 "metadata": {
  "kernelspec": {
   "display_name": "Python 3",
   "language": "python",
   "name": "python3"
  },
  "language_info": {
   "codemirror_mode": {
    "name": "ipython",
    "version": 3
   },
   "file_extension": ".py",
   "mimetype": "text/x-python",
   "name": "python",
   "nbconvert_exporter": "python",
   "pygments_lexer": "ipython3",
   "version": "3.8.5"
  }
 },
 "nbformat": 4,
 "nbformat_minor": 4
}
